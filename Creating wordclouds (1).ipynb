{
 "cells": [
  {
   "cell_type": "code",
   "execution_count": 1,
   "metadata": {},
   "outputs": [
    {
     "name": "stdout",
     "output_type": "stream",
     "text": [
      "package 'rvest' successfully unpacked and MD5 sums checked\n",
      "\n",
      "The downloaded binary packages are in\n",
      "\tC:\\Users\\User\\AppData\\Local\\Temp\\RtmpqgOxPU\\downloaded_packages\n"
     ]
    }
   ],
   "source": [
    "install.packages(\"rvest\")"
   ]
  },
  {
   "cell_type": "code",
   "execution_count": 2,
   "metadata": {},
   "outputs": [
    {
     "name": "stderr",
     "output_type": "stream",
     "text": [
      "Warning message:\n",
      "\"package 'rvest' was built under R version 3.6.3\"Loading required package: xml2\n"
     ]
    }
   ],
   "source": [
    "library(rvest)"
   ]
  },
  {
   "cell_type": "code",
   "execution_count": 3,
   "metadata": {},
   "outputs": [
    {
     "name": "stdout",
     "output_type": "stream",
     "text": [
      "Enter webpage link: https://en.wikipedia.org/wiki/Calisthenics\n"
     ]
    }
   ],
   "source": [
    "link<-readline(prompt=\"Enter webpage link: \")"
   ]
  },
  {
   "cell_type": "code",
   "execution_count": 4,
   "metadata": {},
   "outputs": [],
   "source": [
    "page<-read_html(link)"
   ]
  },
  {
   "cell_type": "code",
   "execution_count": 5,
   "metadata": {},
   "outputs": [
    {
     "data": {
      "text/plain": [
       "{xml_document}\n",
       "<html class=\"client-nojs\" lang=\"en\" dir=\"ltr\">\n",
       "[1] <head>\\n<meta http-equiv=\"Content-Type\" content=\"text/html; charset=UTF-8 ...\n",
       "[2] <body class=\"mediawiki ltr sitedir-ltr mw-hide-empty-elt ns-0 ns-subject  ..."
      ]
     },
     "metadata": {},
     "output_type": "display_data"
    }
   ],
   "source": [
    "page #the web page"
   ]
  },
  {
   "cell_type": "code",
   "execution_count": 6,
   "metadata": {},
   "outputs": [],
   "source": [
    "contents<-page %>% html_nodes(\"p\") %>% html_text() #extracting the contents"
   ]
  },
  {
   "cell_type": "code",
   "execution_count": 7,
   "metadata": {},
   "outputs": [
    {
     "data": {
      "text/html": [
       "<ol class=list-inline>\n",
       "\t<li><span style=white-space:pre-wrap>'Calisthenics (American English) or callisthenics (British English) is a form of exercise consisting of a variety of movements that exercise large muscle groups (gross motor movements), such as running, standing, grasping, pushing, etc. These exercises are often performed rhythmically and with minimal equipment, as bodyweight exercises. They are intended to increase strength, fitness, and flexibility, through movements such as pulling, pushing, bending,  jumping, or swinging, using one\\'s body weight for resistance. Calisthenics can provide the benefits of muscular and aerobic conditioning, in addition to improving psychomotor skills such as balance, agility, and coordination. \\n'</span></li>\n",
       "\t<li>'Urban calisthenics is a form of street workout; calisthenics groups perform exercise routines in urban areas. Individuals and groups train to perform advanced calisthenics skills such as muscle-ups, levers, and various freestyle moves such as spins and flips.\\n'</li>\n",
       "\t<li>'Sports teams and military units often perform leader-directed group calisthenics as a form of synchronized physical training (often including a customized \"call and response\" routine) to increase group cohesion and discipline. Calisthenics is also popular as a component of physical education in primary and secondary schools over much of the globe.\\n'</li>\n",
       "\t<li>'In addition to general fitness, calisthenic exercises are often used as baseline physical evaluations for military organizations around the world. Two examples are the U.S. Army Physical Fitness Test and the U.S.M.C. Physical Fitness Test.\\n'</li>\n",
       "\t<li>'The word calisthenics comes from the ancient Greek words kalós (καλός), which means \"beautiful\" (to emphasize the aesthetic pleasure that derives from the perfection of the human body), and sthenos (σθένος), meaning \"strength\" (great mental strength, courage, strength, and determination). It is the art of using one\\'s body weight as resistance in order to develop physique.\\n'</li>\n",
       "\t<li>'The practice was recorded in use in Ancient Greece, including the armies of Alexander the Great and the Spartans at the Battle of Thermopylae.[1]'</li>\n",
       "\t<li>'Catharine Esther Beecher (1800–1878), was an American educator and author who popularized and shaped a conservative ideological movement to both elevate and entrench women’s place in the domestic sphere of American culture. She introduced calisthenics in a course of physical education and promoted it.\\n'</li>\n",
       "\t<li>'Disciples of Friedrich Ludwig Jahn brought their version of gymnastics to the United States, while Catharine Beecher and Dio Lewis set up physical education programs for women in the 19th century.[2] Organized systems of calisthenics in America took a back seat to competitive sports after the Battle of the Systems, when the states mandated physical education systems.[3] The Royal Canadian Air Force\\'s calisthenics program published in the 1960s helped to launch modern fitness culture.[4][5]'</li>\n",
       "\t<li>'Calisthenics is associated with the rapidly growing international sport called street workout. The street workout consists of athletes performing calisthenics routines in timed sessions in front of a panel of judges. The World Street Workout &amp; Calisthenics Federation (WSWCF) based in Riga, Latvia orchestrates the annual National Championships and hosts the World Championships for all the national champions to compete at one competition. The World Calisthenics Organization (WCO) based in Los Angeles, CA. promotes a series of competitions known globally as the Battle of the Bars. The WCO created the first-ever set of rules for formal competitions, including weight classes, timed round system, original judging criteria and a 10-point must system - giving an increasing number of athletes worldwide an opportunity to compete in these global competitions.\\n'</li>\n",
       "\t<li>'The more commonly performed calisthenic exercises include: \\n'</li>\n",
       "\t<li>'Most common \\n'</li>\n",
       "\t<li>'Common\\n'</li>\n",
       "\t<li>'Co-operative calisthenics refers to calisthenic exercises that involve two or more participants helping each other to perform the exercise. Such exercises are also known as partner exercises or bodyweight exercises with a partner. Usually, one person performs the exercise and the other person adds resistance. For example, a person performing squats with someone on their back. Some exercises also involve the use of equipment. Two people may hold onto different ends of a rope and pull in different directions. One person would deliberately provide a lesser amount of resistance, which adds resistance to the exercise whilst also allowing the other person to move through a full range of motion as their superior level of force application pulls the rope along. A disadvantage such exercises have is that it can be hard to measure how much resistance is being added by the partner when considered in comparison to free weights or machines. The advantage they have is that they allow for relatively high levels of resistance to be added with equipment being optional. On this basis, co-operative calisthenics can be just as easily performed on a playing field as in a gym.[7] They are also versatile enough to allow them to be used for training goals other than simply strength. For example, a squat with a partner can be turned into a power-focused exercise by jumping or hopping with the partner instead, or even lifting them up on one knee.\\n'</li>\n",
       "\t<li>'An increasing number of outdoor fitness training areas and outdoor gyms are being built around the world. Some are designed especially for calisthenics training and most are free to use by the public. Calisthenics parks have equipment like pull-up bars, monkey bars, parallel bars, and box jumps at one location. Freely accessible online maps exist that show the location and sample photos of calisthenics parks around the world.[8] The leading global production company for calisthenics parks is Kenguru Pro.[9]'</li>\n",
       "</ol>\n"
      ],
      "text/latex": [
       "\\begin{enumerate*}\n",
       "\\item 'Calisthenics (American English) or callisthenics (British English) is a form of exercise consisting of a variety of movements that exercise large muscle groups (gross motor movements), such as running, standing, grasping, pushing, etc. These exercises are often performed rhythmically and with minimal equipment, as bodyweight exercises. They are intended to increase strength, fitness, and flexibility, through movements such as pulling, pushing, bending,  jumping, or swinging, using one\\textbackslash{}'s body weight for resistance. Calisthenics can provide the benefits of muscular and aerobic conditioning, in addition to improving psychomotor skills such as balance, agility, and coordination. \\textbackslash{}n'\n",
       "\\item 'Urban calisthenics is a form of street workout; calisthenics groups perform exercise routines in urban areas. Individuals and groups train to perform advanced calisthenics skills such as muscle-ups, levers, and various freestyle moves such as spins and flips.\\textbackslash{}n'\n",
       "\\item 'Sports teams and military units often perform leader-directed group calisthenics as a form of synchronized physical training (often including a customized \"call and response\" routine) to increase group cohesion and discipline. Calisthenics is also popular as a component of physical education in primary and secondary schools over much of the globe.\\textbackslash{}n'\n",
       "\\item 'In addition to general fitness, calisthenic exercises are often used as baseline physical evaluations for military organizations around the world. Two examples are the U.S. Army Physical Fitness Test and the U.S.M.C. Physical Fitness Test.\\textbackslash{}n'\n",
       "\\item 'The word calisthenics comes from the ancient Greek words kalós (καλός), which means \"beautiful\" (to emphasize the aesthetic pleasure that derives from the perfection of the human body), and sthenos (σθένος), meaning \"strength\" (great mental strength, courage, strength, and determination). It is the art of using one\\textbackslash{}'s body weight as resistance in order to develop physique.\\textbackslash{}n'\n",
       "\\item 'The practice was recorded in use in Ancient Greece, including the armies of Alexander the Great and the Spartans at the Battle of Thermopylae.{[}1{]}'\n",
       "\\item 'Catharine Esther Beecher (1800–1878), was an American educator and author who popularized and shaped a conservative ideological movement to both elevate and entrench women’s place in the domestic sphere of American culture. She introduced calisthenics in a course of physical education and promoted it.\\textbackslash{}n'\n",
       "\\item 'Disciples of Friedrich Ludwig Jahn brought their version of gymnastics to the United States, while Catharine Beecher and Dio Lewis set up physical education programs for women in the 19th century.{[}2{]} Organized systems of calisthenics in America took a back seat to competitive sports after the Battle of the Systems, when the states mandated physical education systems.{[}3{]} The Royal Canadian Air Force\\textbackslash{}'s calisthenics program published in the 1960s helped to launch modern fitness culture.{[}4{]}{[}5{]}'\n",
       "\\item 'Calisthenics is associated with the rapidly growing international sport called street workout. The street workout consists of athletes performing calisthenics routines in timed sessions in front of a panel of judges. The World Street Workout \\& Calisthenics Federation (WSWCF) based in Riga, Latvia orchestrates the annual National Championships and hosts the World Championships for all the national champions to compete at one competition. The World Calisthenics Organization (WCO) based in Los Angeles, CA. promotes a series of competitions known globally as the Battle of the Bars. The WCO created the first-ever set of rules for formal competitions, including weight classes, timed round system, original judging criteria and a 10-point must system - giving an increasing number of athletes worldwide an opportunity to compete in these global competitions.\\textbackslash{}n'\n",
       "\\item 'The more commonly performed calisthenic exercises include: \\textbackslash{}n'\n",
       "\\item 'Most common \\textbackslash{}n'\n",
       "\\item 'Common\\textbackslash{}n'\n",
       "\\item 'Co-operative calisthenics refers to calisthenic exercises that involve two or more participants helping each other to perform the exercise. Such exercises are also known as partner exercises or bodyweight exercises with a partner. Usually, one person performs the exercise and the other person adds resistance. For example, a person performing squats with someone on their back. Some exercises also involve the use of equipment. Two people may hold onto different ends of a rope and pull in different directions. One person would deliberately provide a lesser amount of resistance, which adds resistance to the exercise whilst also allowing the other person to move through a full range of motion as their superior level of force application pulls the rope along. A disadvantage such exercises have is that it can be hard to measure how much resistance is being added by the partner when considered in comparison to free weights or machines. The advantage they have is that they allow for relatively high levels of resistance to be added with equipment being optional. On this basis, co-operative calisthenics can be just as easily performed on a playing field as in a gym.{[}7{]} They are also versatile enough to allow them to be used for training goals other than simply strength. For example, a squat with a partner can be turned into a power-focused exercise by jumping or hopping with the partner instead, or even lifting them up on one knee.\\textbackslash{}n'\n",
       "\\item 'An increasing number of outdoor fitness training areas and outdoor gyms are being built around the world. Some are designed especially for calisthenics training and most are free to use by the public. Calisthenics parks have equipment like pull-up bars, monkey bars, parallel bars, and box jumps at one location. Freely accessible online maps exist that show the location and sample photos of calisthenics parks around the world.{[}8{]} The leading global production company for calisthenics parks is Kenguru Pro.{[}9{]}'\n",
       "\\end{enumerate*}\n"
      ],
      "text/markdown": [
       "1. <span style=white-space:pre-wrap>'Calisthenics (American English) or callisthenics (British English) is a form of exercise consisting of a variety of movements that exercise large muscle groups (gross motor movements), such as running, standing, grasping, pushing, etc. These exercises are often performed rhythmically and with minimal equipment, as bodyweight exercises. They are intended to increase strength, fitness, and flexibility, through movements such as pulling, pushing, bending,  jumping, or swinging, using one\\'s body weight for resistance. Calisthenics can provide the benefits of muscular and aerobic conditioning, in addition to improving psychomotor skills such as balance, agility, and coordination. \\n'</span>\n",
       "2. 'Urban calisthenics is a form of street workout; calisthenics groups perform exercise routines in urban areas. Individuals and groups train to perform advanced calisthenics skills such as muscle-ups, levers, and various freestyle moves such as spins and flips.\\n'\n",
       "3. 'Sports teams and military units often perform leader-directed group calisthenics as a form of synchronized physical training (often including a customized \"call and response\" routine) to increase group cohesion and discipline. Calisthenics is also popular as a component of physical education in primary and secondary schools over much of the globe.\\n'\n",
       "4. 'In addition to general fitness, calisthenic exercises are often used as baseline physical evaluations for military organizations around the world. Two examples are the U.S. Army Physical Fitness Test and the U.S.M.C. Physical Fitness Test.\\n'\n",
       "5. 'The word calisthenics comes from the ancient Greek words kalós (καλός), which means \"beautiful\" (to emphasize the aesthetic pleasure that derives from the perfection of the human body), and sthenos (σθένος), meaning \"strength\" (great mental strength, courage, strength, and determination). It is the art of using one\\'s body weight as resistance in order to develop physique.\\n'\n",
       "6. 'The practice was recorded in use in Ancient Greece, including the armies of Alexander the Great and the Spartans at the Battle of Thermopylae.[1]'\n",
       "7. 'Catharine Esther Beecher (1800–1878), was an American educator and author who popularized and shaped a conservative ideological movement to both elevate and entrench women’s place in the domestic sphere of American culture. She introduced calisthenics in a course of physical education and promoted it.\\n'\n",
       "8. 'Disciples of Friedrich Ludwig Jahn brought their version of gymnastics to the United States, while Catharine Beecher and Dio Lewis set up physical education programs for women in the 19th century.[2] Organized systems of calisthenics in America took a back seat to competitive sports after the Battle of the Systems, when the states mandated physical education systems.[3] The Royal Canadian Air Force\\'s calisthenics program published in the 1960s helped to launch modern fitness culture.[4][5]'\n",
       "9. 'Calisthenics is associated with the rapidly growing international sport called street workout. The street workout consists of athletes performing calisthenics routines in timed sessions in front of a panel of judges. The World Street Workout &amp; Calisthenics Federation (WSWCF) based in Riga, Latvia orchestrates the annual National Championships and hosts the World Championships for all the national champions to compete at one competition. The World Calisthenics Organization (WCO) based in Los Angeles, CA. promotes a series of competitions known globally as the Battle of the Bars. The WCO created the first-ever set of rules for formal competitions, including weight classes, timed round system, original judging criteria and a 10-point must system - giving an increasing number of athletes worldwide an opportunity to compete in these global competitions.\\n'\n",
       "10. 'The more commonly performed calisthenic exercises include: \\n'\n",
       "11. 'Most common \\n'\n",
       "12. 'Common\\n'\n",
       "13. 'Co-operative calisthenics refers to calisthenic exercises that involve two or more participants helping each other to perform the exercise. Such exercises are also known as partner exercises or bodyweight exercises with a partner. Usually, one person performs the exercise and the other person adds resistance. For example, a person performing squats with someone on their back. Some exercises also involve the use of equipment. Two people may hold onto different ends of a rope and pull in different directions. One person would deliberately provide a lesser amount of resistance, which adds resistance to the exercise whilst also allowing the other person to move through a full range of motion as their superior level of force application pulls the rope along. A disadvantage such exercises have is that it can be hard to measure how much resistance is being added by the partner when considered in comparison to free weights or machines. The advantage they have is that they allow for relatively high levels of resistance to be added with equipment being optional. On this basis, co-operative calisthenics can be just as easily performed on a playing field as in a gym.[7] They are also versatile enough to allow them to be used for training goals other than simply strength. For example, a squat with a partner can be turned into a power-focused exercise by jumping or hopping with the partner instead, or even lifting them up on one knee.\\n'\n",
       "14. 'An increasing number of outdoor fitness training areas and outdoor gyms are being built around the world. Some are designed especially for calisthenics training and most are free to use by the public. Calisthenics parks have equipment like pull-up bars, monkey bars, parallel bars, and box jumps at one location. Freely accessible online maps exist that show the location and sample photos of calisthenics parks around the world.[8] The leading global production company for calisthenics parks is Kenguru Pro.[9]'\n",
       "\n",
       "\n"
      ],
      "text/plain": [
       " [1] \"Calisthenics (American English) or callisthenics (British English) is a form of exercise consisting of a variety of movements that exercise large muscle groups (gross motor movements), such as running, standing, grasping, pushing, etc. These exercises are often performed rhythmically and with minimal equipment, as bodyweight exercises. They are intended to increase strength, fitness, and flexibility, through movements such as pulling, pushing, bending,  jumping, or swinging, using one's body weight for resistance. Calisthenics can provide the benefits of muscular and aerobic conditioning, in addition to improving psychomotor skills such as balance, agility, and coordination. \\n\"                                                                                                                                                                                                                                                                                                                                                                                                                                                                                                                                                                                                                                                                                                                                                                                        \n",
       " [2] \"Urban calisthenics is a form of street workout; calisthenics groups perform exercise routines in urban areas. Individuals and groups train to perform advanced calisthenics skills such as muscle-ups, levers, and various freestyle moves such as spins and flips.\\n\"                                                                                                                                                                                                                                                                                                                                                                                                                                                                                                                                                                                                                                                                                                                                                                                                                                                                                                                                                                                                                                                                                                                                                                                                                                 \n",
       " [3] \"Sports teams and military units often perform leader-directed group calisthenics as a form of synchronized physical training (often including a customized \\\"call and response\\\" routine) to increase group cohesion and discipline. Calisthenics is also popular as a component of physical education in primary and secondary schools over much of the globe.\\n\"                                                                                                                                                                                                                                                                                                                                                                                                                                                                                                                                                                                                                                                                                                                                                                                                                                                                                                                                                                                                                                                                                                                                     \n",
       " [4] \"In addition to general fitness, calisthenic exercises are often used as baseline physical evaluations for military organizations around the world. Two examples are the U.S. Army Physical Fitness Test and the U.S.M.C. Physical Fitness Test.\\n\"                                                                                                                                                                                                                                                                                                                                                                                                                                                                                                                                                                                                                                                                                                                                                                                                                                                                                                                                                                                                                                                                                                                                                                                                                                                     \n",
       " [5] \"The word calisthenics comes from the ancient Greek words kalós (<U+03BA>a<U+03BB><U+03CC><U+03C2>), which means \\\"beautiful\\\" (to emphasize the aesthetic pleasure that derives from the perfection of the human body), and sthenos (s<U+03B8><U+03AD><U+03BD><U+03BF><U+03C2>), meaning \\\"strength\\\" (great mental strength, courage, strength, and determination). It is the art of using one's body weight as resistance in order to develop physique.\\n\"                                                                                                                                                                                                                                                                                                                                                                                                                                                                                                                                                                                                                                                                                                                                                                                                                                                                                                                                                                                                                                           \n",
       " [6] \"The practice was recorded in use in Ancient Greece, including the armies of Alexander the Great and the Spartans at the Battle of Thermopylae.[1]\"                                                                                                                                                                                                                                                                                                                                                                                                                                                                                                                                                                                                                                                                                                                                                                                                                                                                                                                                                                                                                                                                                                                                                                                                                                                                                                                                                     \n",
       " [7] \"Catharine Esther Beecher (1800–1878), was an American educator and author who popularized and shaped a conservative ideological movement to both elevate and entrench women’s place in the domestic sphere of American culture. She introduced calisthenics in a course of physical education and promoted it.\\n\"                                                                                                                                                                                                                                                                                                                                                                                                                                                                                                                                                                                                                                                                                                                                                                                                                                                                                                                                                                                                                                                                                                                                                                                      \n",
       " [8] \"Disciples of Friedrich Ludwig Jahn brought their version of gymnastics to the United States, while Catharine Beecher and Dio Lewis set up physical education programs for women in the 19th century.[2] Organized systems of calisthenics in America took a back seat to competitive sports after the Battle of the Systems, when the states mandated physical education systems.[3] The Royal Canadian Air Force's calisthenics program published in the 1960s helped to launch modern fitness culture.[4][5]\"                                                                                                                                                                                                                                                                                                                                                                                                                                                                                                                                                                                                                                                                                                                                                                                                                                                                                                                                                                                        \n",
       " [9] \"Calisthenics is associated with the rapidly growing international sport called street workout. The street workout consists of athletes performing calisthenics routines in timed sessions in front of a panel of judges. The World Street Workout & Calisthenics Federation (WSWCF) based in Riga, Latvia orchestrates the annual National Championships and hosts the World Championships for all the national champions to compete at one competition. The World Calisthenics Organization (WCO) based in Los Angeles, CA. promotes a series of competitions known globally as the Battle of the Bars. The WCO created the first-ever set of rules for formal competitions, including weight classes, timed round system, original judging criteria and a 10-point must system - giving an increasing number of athletes worldwide an opportunity to compete in these global competitions.\\n\"                                                                                                                                                                                                                                                                                                                                                                                                                                                                                                                                                                                                        \n",
       "[10] \"The more commonly performed calisthenic exercises include: \\n\"                                                                                                                                                                                                                                                                                                                                                                                                                                                                                                                                                                                                                                                                                                                                                                                                                                                                                                                                                                                                                                                                                                                                                                                                                                                                                                                                                                                                                                         \n",
       "[11] \"Most common \\n\"                                                                                                                                                                                                                                                                                                                                                                                                                                                                                                                                                                                                                                                                                                                                                                                                                                                                                                                                                                                                                                                                                                                                                                                                                                                                                                                                                                                                                                                                                        \n",
       "[12] \"Common\\n\"                                                                                                                                                                                                                                                                                                                                                                                                                                                                                                                                                                                                                                                                                                                                                                                                                                                                                                                                                                                                                                                                                                                                                                                                                                                                                                                                                                                                                                                                                              \n",
       "[13] \"Co-operative calisthenics refers to calisthenic exercises that involve two or more participants helping each other to perform the exercise. Such exercises are also known as partner exercises or bodyweight exercises with a partner. Usually, one person performs the exercise and the other person adds resistance. For example, a person performing squats with someone on their back. Some exercises also involve the use of equipment. Two people may hold onto different ends of a rope and pull in different directions. One person would deliberately provide a lesser amount of resistance, which adds resistance to the exercise whilst also allowing the other person to move through a full range of motion as their superior level of force application pulls the rope along. A disadvantage such exercises have is that it can be hard to measure how much resistance is being added by the partner when considered in comparison to free weights or machines. The advantage they have is that they allow for relatively high levels of resistance to be added with equipment being optional. On this basis, co-operative calisthenics can be just as easily performed on a playing field as in a gym.[7] They are also versatile enough to allow them to be used for training goals other than simply strength. For example, a squat with a partner can be turned into a power-focused exercise by jumping or hopping with the partner instead, or even lifting them up on one knee.\\n\"\n",
       "[14] \"An increasing number of outdoor fitness training areas and outdoor gyms are being built around the world. Some are designed especially for calisthenics training and most are free to use by the public. Calisthenics parks have equipment like pull-up bars, monkey bars, parallel bars, and box jumps at one location. Freely accessible online maps exist that show the location and sample photos of calisthenics parks around the world.[8] The leading global production company for calisthenics parks is Kenguru Pro.[9]\"                                                                                                                                                                                                                                                                                                                                                                                                                                                                                                                                                                                                                                                                                                                                                                                                                                                                                                                                                                      "
      ]
     },
     "metadata": {},
     "output_type": "display_data"
    }
   ],
   "source": [
    "contents"
   ]
  },
  {
   "cell_type": "code",
   "execution_count": 8,
   "metadata": {},
   "outputs": [
    {
     "name": "stdout",
     "output_type": "stream",
     "text": [
      "package 'readr' successfully unpacked and MD5 sums checked\n"
     ]
    },
    {
     "name": "stderr",
     "output_type": "stream",
     "text": [
      "Warning message:\n",
      "\"cannot remove prior installation of package 'readr'\"Warning message in file.copy(savedcopy, lib, recursive = TRUE):\n",
      "\"problem copying C:\\Users\\User\\Anaconda3\\envs\\r_tutorial\\Lib\\R\\library\\00LOCK\\readr\\libs\\x64\\readr.dll to C:\\Users\\User\\Anaconda3\\envs\\r_tutorial\\Lib\\R\\library\\readr\\libs\\x64\\readr.dll: Permission denied\"Warning message:\n",
      "\"restored 'readr'\""
     ]
    },
    {
     "name": "stdout",
     "output_type": "stream",
     "text": [
      "\n",
      "The downloaded binary packages are in\n",
      "\tC:\\Users\\User\\AppData\\Local\\Temp\\RtmpqgOxPU\\downloaded_packages\n",
      "package 'dplyr' successfully unpacked and MD5 sums checked\n"
     ]
    },
    {
     "name": "stderr",
     "output_type": "stream",
     "text": [
      "Warning message:\n",
      "\"cannot remove prior installation of package 'dplyr'\"Warning message in file.copy(savedcopy, lib, recursive = TRUE):\n",
      "\"problem copying C:\\Users\\User\\Anaconda3\\envs\\r_tutorial\\Lib\\R\\library\\00LOCK\\dplyr\\libs\\x64\\dplyr.dll to C:\\Users\\User\\Anaconda3\\envs\\r_tutorial\\Lib\\R\\library\\dplyr\\libs\\x64\\dplyr.dll: Permission denied\"Warning message:\n",
      "\"restored 'dplyr'\""
     ]
    },
    {
     "name": "stdout",
     "output_type": "stream",
     "text": [
      "\n",
      "The downloaded binary packages are in\n",
      "\tC:\\Users\\User\\AppData\\Local\\Temp\\RtmpqgOxPU\\downloaded_packages\n",
      "package 'tm' successfully unpacked and MD5 sums checked\n"
     ]
    },
    {
     "name": "stderr",
     "output_type": "stream",
     "text": [
      "Warning message:\n",
      "\"cannot remove prior installation of package 'tm'\"Warning message in file.copy(savedcopy, lib, recursive = TRUE):\n",
      "\"problem copying C:\\Users\\User\\Anaconda3\\envs\\r_tutorial\\Lib\\R\\library\\00LOCK\\tm\\libs\\x64\\tm.dll to C:\\Users\\User\\Anaconda3\\envs\\r_tutorial\\Lib\\R\\library\\tm\\libs\\x64\\tm.dll: Permission denied\"Warning message:\n",
      "\"restored 'tm'\""
     ]
    },
    {
     "name": "stdout",
     "output_type": "stream",
     "text": [
      "\n",
      "The downloaded binary packages are in\n",
      "\tC:\\Users\\User\\AppData\\Local\\Temp\\RtmpqgOxPU\\downloaded_packages\n",
      "package 'SnowballC' successfully unpacked and MD5 sums checked\n"
     ]
    },
    {
     "name": "stderr",
     "output_type": "stream",
     "text": [
      "Warning message:\n",
      "\"cannot remove prior installation of package 'SnowballC'\"Warning message in file.copy(savedcopy, lib, recursive = TRUE):\n",
      "\"problem copying C:\\Users\\User\\Anaconda3\\envs\\r_tutorial\\Lib\\R\\library\\00LOCK\\SnowballC\\libs\\x64\\SnowballC.dll to C:\\Users\\User\\Anaconda3\\envs\\r_tutorial\\Lib\\R\\library\\SnowballC\\libs\\x64\\SnowballC.dll: Permission denied\"Warning message:\n",
      "\"restored 'SnowballC'\""
     ]
    },
    {
     "name": "stdout",
     "output_type": "stream",
     "text": [
      "\n",
      "The downloaded binary packages are in\n",
      "\tC:\\Users\\User\\AppData\\Local\\Temp\\RtmpqgOxPU\\downloaded_packages\n",
      "package 'wordcloud' successfully unpacked and MD5 sums checked\n"
     ]
    },
    {
     "name": "stderr",
     "output_type": "stream",
     "text": [
      "Warning message:\n",
      "\"cannot remove prior installation of package 'wordcloud'\"Warning message in file.copy(savedcopy, lib, recursive = TRUE):\n",
      "\"problem copying C:\\Users\\User\\Anaconda3\\envs\\r_tutorial\\Lib\\R\\library\\00LOCK\\wordcloud\\libs\\x64\\wordcloud.dll to C:\\Users\\User\\Anaconda3\\envs\\r_tutorial\\Lib\\R\\library\\wordcloud\\libs\\x64\\wordcloud.dll: Permission denied\"Warning message:\n",
      "\"restored 'wordcloud'\""
     ]
    },
    {
     "name": "stdout",
     "output_type": "stream",
     "text": [
      "\n",
      "The downloaded binary packages are in\n",
      "\tC:\\Users\\User\\AppData\\Local\\Temp\\RtmpqgOxPU\\downloaded_packages\n",
      "package 'RColorBrewer' successfully unpacked and MD5 sums checked\n",
      "\n",
      "The downloaded binary packages are in\n",
      "\tC:\\Users\\User\\AppData\\Local\\Temp\\RtmpqgOxPU\\downloaded_packages\n"
     ]
    }
   ],
   "source": [
    "install.packages(\"readr\")\n",
    "install.packages(\"dplyr\")\n",
    "install.packages(\"tm\")\n",
    "install.packages(\"SnowballC\")\n",
    "install.packages(\"wordcloud\")\n",
    "install.packages(\"RColorBrewer\") #installing the libraries"
   ]
  },
  {
   "cell_type": "code",
   "execution_count": 9,
   "metadata": {},
   "outputs": [
    {
     "name": "stderr",
     "output_type": "stream",
     "text": [
      "Warning message:\n",
      "\"package 'readr' was built under R version 3.6.3\"\n",
      "Attaching package: 'readr'\n",
      "\n",
      "The following object is masked from 'package:rvest':\n",
      "\n",
      "    guess_encoding\n",
      "\n",
      "Warning message:\n",
      "\"package 'dplyr' was built under R version 3.6.3\"\n",
      "Attaching package: 'dplyr'\n",
      "\n",
      "The following objects are masked from 'package:stats':\n",
      "\n",
      "    filter, lag\n",
      "\n",
      "The following objects are masked from 'package:base':\n",
      "\n",
      "    intersect, setdiff, setequal, union\n",
      "\n",
      "Warning message:\n",
      "\"package 'tm' was built under R version 3.6.3\"Loading required package: NLP\n",
      "Warning message:\n",
      "\"package 'SnowballC' was built under R version 3.6.3\"Warning message:\n",
      "\"package 'wordcloud' was built under R version 3.6.3\"Loading required package: RColorBrewer\n"
     ]
    }
   ],
   "source": [
    "library(readr)\n",
    "library(dplyr)\n",
    "library(tm)\n",
    "library(SnowballC)\n",
    "library(wordcloud)\n",
    "library(RColorBrewer) #loading the libraries"
   ]
  },
  {
   "cell_type": "code",
   "execution_count": 10,
   "metadata": {},
   "outputs": [
    {
     "name": "stdout",
     "output_type": "stream",
     "text": [
      "package 'tidytext' successfully unpacked and MD5 sums checked\n",
      "\n",
      "The downloaded binary packages are in\n",
      "\tC:\\Users\\User\\AppData\\Local\\Temp\\RtmpqgOxPU\\downloaded_packages\n"
     ]
    },
    {
     "name": "stderr",
     "output_type": "stream",
     "text": [
      "Warning message:\n",
      "\"package 'tidytext' was built under R version 3.6.3\"Warning message:\n",
      "\"package 'ggplot2' was built under R version 3.6.3\"\n",
      "Attaching package: 'ggplot2'\n",
      "\n",
      "The following object is masked from 'package:NLP':\n",
      "\n",
      "    annotate\n",
      "\n"
     ]
    }
   ],
   "source": [
    "install.packages(\"tidytext\")\n",
    "library(tidytext)\n",
    "library(ggplot2)"
   ]
  },
  {
   "cell_type": "code",
   "execution_count": 11,
   "metadata": {},
   "outputs": [],
   "source": [
    "contents_lower<-tolower(contents) #converting to lower alphabets"
   ]
  },
  {
   "cell_type": "code",
   "execution_count": 12,
   "metadata": {},
   "outputs": [],
   "source": [
    "contents_lower<-paste(contents_lower,sep=\" \",collapse=\" \") #concatenating the paragraphs"
   ]
  },
  {
   "cell_type": "code",
   "execution_count": 13,
   "metadata": {},
   "outputs": [],
   "source": [
    "contents_punc<-removePunctuation(contents_lower) #removing punctuations"
   ]
  },
  {
   "cell_type": "code",
   "execution_count": 14,
   "metadata": {},
   "outputs": [],
   "source": [
    "#removing prepositions:\n",
    "contents_prepositions<-removeWords(contents_punc,c(\"above\",\"across\",\"after\",\"against\",\"along\",\"among\",\"around\",\"as\",\"at\",\"before\",\"behind\",\"below\",\"beneath\",\"beside\",\"between\",\"by\",\"down\",\"during\",\"for\",\"from\",\"in\",\"inside\",\"into\",\"near\",\"of\",\"off\",\"on\",\"onto\",\"outside\",\"over\",\"through\",\"till\",\"to\",\"towards\",\"under\",\"underneath\",\"until\",\"up\",\"with\"))"
   ]
  },
  {
   "cell_type": "code",
   "execution_count": 15,
   "metadata": {},
   "outputs": [],
   "source": [
    "#removing be-verbs\n",
    "contents_be_verbs<-removeWords(contents_prepositions,c(\"be\",\"am\",\"is\",\"are\",\"was\",\"were\",\"been\",\"being\",\"have\",\"has\",\"had\",\"could\",\"can\",\"should\",\"would\",\"may\",\"might\",\"must\",\"shall\",\"will\",\"do\",\"did\",\"does\",\"having\"))"
   ]
  },
  {
   "cell_type": "code",
   "execution_count": 16,
   "metadata": {},
   "outputs": [],
   "source": [
    "#removing articles\n",
    "contents_articles<-removeWords(contents_be_verbs,c(\"a\",\"an\",\"the\"))"
   ]
  },
  {
   "cell_type": "code",
   "execution_count": 17,
   "metadata": {},
   "outputs": [],
   "source": [
    "#removing conjunctions\n",
    "contents_conjunctions<-removeWords(contents_articles,c(\"for\",\"and\",\"nor\",\"but\",\"or\",\"yet\",\"so\"))"
   ]
  },
  {
   "cell_type": "code",
   "execution_count": 18,
   "metadata": {},
   "outputs": [],
   "source": [
    "#removing pronouns\n",
    "contents_pronouns<-removeWords(contents_conjunctions,c(\"i\",\"me\",\"myself\",\"us\",\"our\",\"ours\",\"him\",\"himself\",\"her\",\"herself\",\"one\",\"this\",\"that\",\"it\",\"itself\",\"them\",\"themselves\",\"they\",\"their\"))"
   ]
  },
  {
   "cell_type": "code",
   "execution_count": 19,
   "metadata": {},
   "outputs": [],
   "source": [
    "#renaming\n",
    "filtered_contents<-contents_pronouns"
   ]
  },
  {
   "cell_type": "code",
   "execution_count": 20,
   "metadata": {},
   "outputs": [
    {
     "name": "stdout",
     "output_type": "stream",
     "text": [
      "package 'corpus' successfully unpacked and MD5 sums checked\n"
     ]
    },
    {
     "name": "stderr",
     "output_type": "stream",
     "text": [
      "Warning message:\n",
      "\"cannot remove prior installation of package 'corpus'\"Warning message in file.copy(savedcopy, lib, recursive = TRUE):\n",
      "\"problem copying C:\\Users\\User\\Anaconda3\\envs\\r_tutorial\\Lib\\R\\library\\00LOCK\\corpus\\libs\\x64\\corpus.dll to C:\\Users\\User\\Anaconda3\\envs\\r_tutorial\\Lib\\R\\library\\corpus\\libs\\x64\\corpus.dll: Permission denied\"Warning message:\n",
      "\"restored 'corpus'\""
     ]
    },
    {
     "name": "stdout",
     "output_type": "stream",
     "text": [
      "\n",
      "The downloaded binary packages are in\n",
      "\tC:\\Users\\User\\AppData\\Local\\Temp\\RtmpqgOxPU\\downloaded_packages\n"
     ]
    },
    {
     "name": "stderr",
     "output_type": "stream",
     "text": [
      "Warning message:\n",
      "\"package 'corpus' was built under R version 3.6.3\""
     ]
    }
   ],
   "source": [
    "install.packages(\"corpus\")\n",
    "library(corpus)"
   ]
  },
  {
   "cell_type": "code",
   "execution_count": 21,
   "metadata": {},
   "outputs": [
    {
     "name": "stdout",
     "output_type": "stream",
     "text": [
      "[[1]]\n",
      "  [1] \"calisthen\"    \"american\"     \"english\"      \"callisthen\"   \"british\"     \n",
      "  [6] \"english\"      \"form\"         \"exercis\"      \"consist\"      \"varieti\"     \n",
      " [11] \"movement\"     \"exercis\"      \"larg\"         \"muscl\"        \"group\"       \n",
      " [16] \"gross\"        \"motor\"        \"movement\"     \"such\"         \"run\"         \n",
      " [21] \"stand\"        \"grasp\"        \"push\"         \"etc\"          \"these\"       \n",
      " [26] \"exercis\"      \"often\"        \"perform\"      \"rhythmic\"     \"minim\"       \n",
      " [31] \"equip\"        \"bodyweight\"   \"exercis\"      \"intend\"       \"increas\"     \n",
      " [36] \"strength\"     \"fit\"          \"flexibl\"      \"movement\"     \"such\"        \n",
      " [41] \"pull\"         \"push\"         \"bend\"         \"jump\"         \"swing\"       \n",
      " [46] \"use\"          \"one\"          \"bodi\"         \"weight\"       \"resist\"      \n",
      " [51] \"calisthen\"    \"provid\"       \"benefit\"      \"muscular\"     \"aerob\"       \n",
      " [56] \"condit\"       \"addit\"        \"improv\"       \"psychomotor\"  \"skill\"       \n",
      " [61] \"such\"         \"balanc\"       \"agil\"         \"coordin\"      \"urban\"       \n",
      " [66] \"calisthen\"    \"form\"         \"street\"       \"workout\"      \"calisthen\"   \n",
      " [71] \"group\"        \"perform\"      \"exercis\"      \"routin\"       \"urban\"       \n",
      " [76] \"area\"         \"individu\"     \"group\"        \"train\"        \"perform\"     \n",
      " [81] \"advanc\"       \"calisthen\"    \"skill\"        \"such\"         \"muscleup\"    \n",
      " [86] \"lever\"        \"various\"      \"freestyl\"     \"move\"         \"such\"        \n",
      " [91] \"spin\"         \"flip\"         \"sport\"        \"team\"         \"militari\"    \n",
      " [96] \"unit\"         \"often\"        \"perform\"      \"leaderdirect\" \"group\"       \n",
      "[101] \"calisthen\"    \"form\"         \"synchron\"     \"physic\"       \"train\"       \n",
      "[106] \"often\"        \"includ\"       \"custom\"       \"call\"         \"respons\"     \n",
      "[111] \"routin\"       \"increas\"      \"group\"        \"cohes\"        \"disciplin\"   \n",
      "[116] \"calisthen\"    \"also\"         \"popular\"      \"compon\"       \"physic\"      \n",
      "[121] \"educ\"         \"primari\"      \"secondari\"    \"school\"       \"much\"        \n",
      "[126] \"globe\"        \"addit\"        \"general\"      \"fit\"          \"calisthen\"   \n",
      "[131] \"exercis\"      \"often\"        \"use\"          \"baselin\"      \"physic\"      \n",
      "[136] \"evalu\"        \"militari\"     \"organ\"        \"world\"        \"two\"         \n",
      "[141] \"exampl\"       \"armi\"         \"physic\"       \"fit\"          \"test\"        \n",
      "[146] \"usmc\"         \"physic\"       \"fit\"          \"test\"         \"word\"        \n",
      "[151] \"calisthen\"    \"come\"         \"ancient\"      \"greek\"        \"word\"        \n",
      "[156] \"kaló\"         \"<U+03BA>a<U+03BB><U+03CC>s\" \"which\"        \"mean\"         \"beauti\"      \n",
      "[161] \"emphas\"       \"aesthet\"      \"pleasur\"      \"deriv\"        \"perfect\"     \n",
      "[166] \"human\"        \"bodi\"         \"stheno\"       \"s<U+03B8><U+03AD><U+03BD><U+03BF>s\" \"mean\"        \n",
      "[171] \"strength\"     \"great\"        \"mental\"       \"strength\"     \"courag\"      \n",
      "[176] \"strength\"     \"determin\"     \"art\"          \"use\"          \"one\"         \n",
      "[181] \"bodi\"         \"weight\"       \"resist\"       \"order\"        \"develop\"     \n",
      "[186] \"physiqu\"      \"practic\"      \"record\"       \"use\"          \"ancient\"     \n",
      "[191] \"greec\"        \"includ\"       \"armi\"         \"alexand\"      \"great\"       \n",
      "[196] \"spartan\"      \"battl\"        \"thermopylae1\" \"catharin\"     \"esther\"      \n",
      "[201] \"beecher\"      \"1800\"         \"–\"            \"1878\"         \"american\"    \n",
      "[206] \"educ\"         \"author\"       \"who\"          \"popular\"      \"shape\"       \n",
      "[211] \"conserv\"      \"ideolog\"      \"movement\"     \"both\"         \"elev\"        \n",
      "[216] \"entrench\"     \"women\"        \"place\"        \"domest\"       \"sphere\"      \n",
      "[221] \"american\"     \"cultur\"       \"she\"          \"introduc\"     \"calisthen\"   \n",
      "[226] \"cours\"        \"physic\"       \"educ\"         \"promot\"       \"discipl\"     \n",
      "[231] \"friedrich\"    \"ludwig\"       \"jahn\"         \"brought\"      \"version\"     \n",
      "[236] \"gymnast\"      \"unit\"         \"state\"        \"while\"        \"catharin\"    \n",
      "[241] \"beecher\"      \"dio\"          \"lewi\"         \"set\"          \"physic\"      \n",
      "[246] \"educ\"         \"program\"      \"women\"        \"19th\"         \"century2\"    \n",
      "[251] \"organ\"        \"system\"       \"calisthen\"    \"america\"      \"took\"        \n",
      "[256] \"back\"         \"seat\"         \"competit\"     \"sport\"        \"battl\"       \n",
      "[261] \"system\"       \"when\"         \"state\"        \"mandat\"       \"physic\"      \n",
      "[266] \"educ\"         \"systems3\"     \"royal\"        \"canadian\"     \"air\"         \n",
      "[271] \"forc\"         \"calisthen\"    \"program\"      \"publish\"      \"1960s\"       \n",
      "[276] \"help\"         \"launch\"       \"modern\"       \"fit\"          \"culture45\"   \n",
      "[281] \"calisthen\"    \"associ\"       \"rapid\"        \"grow\"         \"intern\"      \n",
      "[286] \"sport\"        \"call\"         \"street\"       \"workout\"      \"street\"      \n",
      "[291] \"workout\"      \"consist\"      \"athlet\"       \"perform\"      \"calisthen\"   \n",
      "[296] \"routin\"       \"time\"         \"session\"      \"front\"        \"panel\"       \n",
      "[301] \"judg\"         \"world\"        \"street\"       \"workout\"      \"calisthen\"   \n",
      "[306] \"feder\"        \"wswcf\"        \"base\"         \"riga\"         \"latvia\"      \n",
      "[311] \"orchestr\"     \"annual\"       \"nation\"       \"championship\" \"host\"        \n",
      "[316] \"world\"        \"championship\" \"all\"          \"nation\"       \"champion\"    \n",
      "[321] \"compet\"       \"competit\"     \"world\"        \"calisthen\"    \"organ\"       \n",
      "[326] \"wco\"          \"base\"         \"los\"          \"angel\"        \"ca\"          \n",
      "[331] \"promot\"       \"seri\"         \"competit\"     \"known\"        \"global\"      \n",
      "[336] \"battl\"        \"bar\"          \"wco\"          \"creat\"        \"firstev\"     \n",
      "[341] \"set\"          \"rule\"         \"formal\"       \"competit\"     \"includ\"      \n",
      "[346] \"weight\"       \"class\"        \"time\"         \"round\"        \"system\"      \n",
      "[351] \"origin\"       \"judg\"         \"criteria\"     \"10point\"      \"system\"      \n",
      "[356] \"give\"         \"increas\"      \"number\"       \"athlet\"       \"worldwid\"    \n",
      "[361] \"opportun\"     \"compet\"       \"these\"        \"global\"       \"competit\"    \n",
      "[366] \"more\"         \"common\"       \"perform\"      \"calisthen\"    \"exercis\"     \n",
      "[371] \"includ\"       \"most\"         \"common\"       \"common\"       \"cooper\"      \n",
      "[376] \"calisthen\"    \"refer\"        \"calisthen\"    \"exercis\"      \"involv\"      \n",
      "[381] \"two\"          \"more\"         \"particip\"     \"help\"         \"each\"        \n",
      "[386] \"other\"        \"perform\"      \"exercis\"      \"such\"         \"exercis\"     \n",
      "[391] \"also\"         \"known\"        \"partner\"      \"exercis\"      \"bodyweight\"  \n",
      "[396] \"exercis\"      \"partner\"      \"usual\"        \"person\"       \"perform\"     \n",
      "[401] \"exercis\"      \"other\"        \"person\"       \"add\"          \"resist\"      \n",
      "[406] \"exampl\"       \"person\"       \"perform\"      \"squat\"        \"someon\"      \n",
      "[411] \"back\"         \"some\"         \"exercis\"      \"also\"         \"involv\"      \n",
      "[416] \"use\"          \"equip\"        \"two\"          \"peopl\"        \"hold\"        \n",
      "[421] \"differ\"       \"end\"          \"rope\"         \"pull\"         \"differ\"      \n",
      "[426] \"direct\"       \"person\"       \"deliber\"      \"provid\"       \"lesser\"      \n",
      "[431] \"amount\"       \"resist\"       \"which\"        \"add\"          \"resist\"      \n",
      "[436] \"exercis\"      \"whilst\"       \"also\"         \"allow\"        \"other\"       \n",
      "[441] \"person\"       \"move\"         \"full\"         \"rang\"         \"motion\"      \n",
      "[446] \"superior\"     \"level\"        \"forc\"         \"applic\"       \"pull\"        \n",
      "[451] \"rope\"         \"disadvantag\"  \"such\"         \"exercis\"      \"hard\"        \n",
      "[456] \"measur\"       \"how\"          \"much\"         \"resist\"       \"ad\"          \n",
      "[461] \"partner\"      \"when\"         \"consid\"       \"comparison\"   \"free\"        \n",
      "[466] \"weight\"       \"machin\"       \"advantag\"     \"allow\"        \"relat\"       \n",
      "[471] \"high\"         \"level\"        \"resist\"       \"ad\"           \"equip\"       \n",
      "[476] \"option\"       \"basi\"         \"cooper\"       \"calisthen\"    \"just\"        \n",
      "[481] \"easili\"       \"perform\"      \"play\"         \"field\"        \"gym7\"        \n",
      "[486] \"also\"         \"versatil\"     \"enough\"       \"allow\"        \"use\"         \n",
      "[491] \"train\"        \"goal\"         \"other\"        \"than\"         \"simpli\"      \n",
      "[496] \"strength\"     \"exampl\"       \"squat\"        \"partner\"      \"turn\"        \n",
      "[501] \"powerfocus\"   \"exercis\"      \"jump\"         \"hop\"          \"partner\"     \n",
      "[506] \"instead\"      \"even\"         \"lift\"         \"knee\"         \"increas\"     \n",
      "[511] \"number\"       \"outdoor\"      \"fit\"          \"train\"        \"area\"        \n",
      "[516] \"outdoor\"      \"gym\"          \"built\"        \"world\"        \"some\"        \n",
      "[521] \"design\"       \"especi\"       \"calisthen\"    \"train\"        \"most\"        \n",
      "[526] \"free\"         \"use\"          \"public\"       \"calisthen\"    \"park\"        \n",
      "[531] \"equip\"        \"like\"         \"pullup\"       \"bar\"          \"monkey\"      \n",
      "[536] \"bar\"          \"parallel\"     \"bar\"          \"box\"          \"jump\"        \n",
      "[541] \"locat\"        \"freeli\"       \"access\"       \"onlin\"        \"map\"         \n",
      "[546] \"exist\"        \"show\"         \"locat\"        \"sampl\"        \"photo\"       \n",
      "[551] \"calisthen\"    \"park\"         \"world8\"       \"lead\"         \"global\"      \n",
      "[556] \"product\"      \"compani\"      \"calisthen\"    \"park\"         \"kenguru\"     \n",
      "[561] \"pro9\"        \n",
      "\n"
     ]
    }
   ],
   "source": [
    "#stemming\n",
    "stemmed_contents<-text_tokens(filtered_contents,stemmer=\"en\")\n",
    "print(stemmed_contents)"
   ]
  },
  {
   "cell_type": "code",
   "execution_count": 22,
   "metadata": {},
   "outputs": [
    {
     "name": "stdout",
     "output_type": "stream",
     "text": [
      "                                  Var1 Freq\n",
      "1                                    –    1\n",
      "2           <U+03BA>a<U+03BB><U+03CC>s    1\n",
      "3                              10point    1\n",
      "4                                 1800    1\n",
      "5                                 1878    1\n",
      "6                                1960s    1\n",
      "7                                 19th    1\n",
      "8                               access    1\n",
      "9                                   ad    2\n",
      "10                                 add    2\n",
      "11                               addit    2\n",
      "12                              advanc    1\n",
      "13                            advantag    1\n",
      "14                               aerob    1\n",
      "15                             aesthet    1\n",
      "16                                agil    1\n",
      "17                                 air    1\n",
      "18                             alexand    1\n",
      "19                                 all    1\n",
      "20                               allow    3\n",
      "21                                also    5\n",
      "22                             america    1\n",
      "23                            american    3\n",
      "24                              amount    1\n",
      "25                             ancient    2\n",
      "26                               angel    1\n",
      "27                              annual    1\n",
      "28                              applic    1\n",
      "29                                area    2\n",
      "30                                armi    2\n",
      "31                                 art    1\n",
      "32                              associ    1\n",
      "33                              athlet    2\n",
      "34                              author    1\n",
      "35                                back    2\n",
      "36                              balanc    1\n",
      "37                                 bar    4\n",
      "38                                base    2\n",
      "39                             baselin    1\n",
      "40                                basi    1\n",
      "41                               battl    3\n",
      "42                              beauti    1\n",
      "43                             beecher    2\n",
      "44                                bend    1\n",
      "45                             benefit    1\n",
      "46                                bodi    3\n",
      "47                          bodyweight    2\n",
      "48                                both    1\n",
      "49                                 box    1\n",
      "50                             british    1\n",
      "51                             brought    1\n",
      "52                               built    1\n",
      "53                                  ca    1\n",
      "54                           calisthen   24\n",
      "55                                call    2\n",
      "56                          callisthen    1\n",
      "57                            canadian    1\n",
      "58                            catharin    2\n",
      "59                            century2    1\n",
      "60                            champion    1\n",
      "61                        championship    2\n",
      "62                               class    1\n",
      "63                               cohes    1\n",
      "64                                come    1\n",
      "65                              common    3\n",
      "66                             compani    1\n",
      "67                          comparison    1\n",
      "68                              compet    2\n",
      "69                            competit    5\n",
      "70                              compon    1\n",
      "71                              condit    1\n",
      "72                             conserv    1\n",
      "73                              consid    1\n",
      "74                             consist    2\n",
      "75                              cooper    2\n",
      "76                             coordin    1\n",
      "77                              courag    1\n",
      "78                               cours    1\n",
      "79                               creat    1\n",
      "80                            criteria    1\n",
      "81                              cultur    1\n",
      "82                           culture45    1\n",
      "83                              custom    1\n",
      "84                             deliber    1\n",
      "85                               deriv    1\n",
      "86                              design    1\n",
      "87                            determin    1\n",
      "88                             develop    1\n",
      "89                              differ    2\n",
      "90                                 dio    1\n",
      "91                              direct    1\n",
      "92                         disadvantag    1\n",
      "93                             discipl    1\n",
      "94                           disciplin    1\n",
      "95                              domest    1\n",
      "96                                each    1\n",
      "97                              easili    1\n",
      "98                                educ    5\n",
      "99                                elev    1\n",
      "100                             emphas    1\n",
      "101                                end    1\n",
      "102                            english    2\n",
      "103                             enough    1\n",
      "104                           entrench    1\n",
      "105                              equip    4\n",
      "106                             especi    1\n",
      "107                             esther    1\n",
      "108                                etc    1\n",
      "109                              evalu    1\n",
      "110                               even    1\n",
      "111                             exampl    3\n",
      "112                            exercis   17\n",
      "113                              exist    1\n",
      "114                              feder    1\n",
      "115                              field    1\n",
      "116                            firstev    1\n",
      "117                                fit    6\n",
      "118                            flexibl    1\n",
      "119                               flip    1\n",
      "120                               forc    2\n",
      "121                               form    3\n",
      "122                             formal    1\n",
      "123                               free    2\n",
      "124                             freeli    1\n",
      "125                           freestyl    1\n",
      "126                          friedrich    1\n",
      "127                              front    1\n",
      "128                               full    1\n",
      "129                            general    1\n",
      "130                               give    1\n",
      "131                             global    3\n",
      "132                              globe    1\n",
      "133                               goal    1\n",
      "134                              grasp    1\n",
      "135                              great    2\n",
      "136                              greec    1\n",
      "137                              greek    1\n",
      "138                              gross    1\n",
      "139                              group    5\n",
      "140                               grow    1\n",
      "141                                gym    1\n",
      "142                               gym7    1\n",
      "143                            gymnast    1\n",
      "144                               hard    1\n",
      "145                               help    2\n",
      "146                               high    1\n",
      "147                               hold    1\n",
      "148                                hop    1\n",
      "149                               host    1\n",
      "150                                how    1\n",
      "151                              human    1\n",
      "152                            ideolog    1\n",
      "153                             improv    1\n",
      "154                             includ    4\n",
      "155                            increas    4\n",
      "156                           individu    1\n",
      "157                            instead    1\n",
      "158                             intend    1\n",
      "159                             intern    1\n",
      "160                           introduc    1\n",
      "161                             involv    2\n",
      "162                               jahn    1\n",
      "163                               judg    2\n",
      "164                               jump    3\n",
      "165                               just    1\n",
      "166                               kaló    1\n",
      "167                            kenguru    1\n",
      "168                               knee    1\n",
      "169                              known    2\n",
      "170                               larg    1\n",
      "171                             latvia    1\n",
      "172                             launch    1\n",
      "173                               lead    1\n",
      "174                       leaderdirect    1\n",
      "175                             lesser    1\n",
      "176                              level    2\n",
      "177                              lever    1\n",
      "178                               lewi    1\n",
      "179                               lift    1\n",
      "180                               like    1\n",
      "181                              locat    2\n",
      "182                                los    1\n",
      "183                             ludwig    1\n",
      "184                             machin    1\n",
      "185                             mandat    1\n",
      "186                                map    1\n",
      "187                               mean    2\n",
      "188                             measur    1\n",
      "189                             mental    1\n",
      "190                           militari    2\n",
      "191                              minim    1\n",
      "192                             modern    1\n",
      "193                             monkey    1\n",
      "194                               more    2\n",
      "195                               most    2\n",
      "196                             motion    1\n",
      "197                              motor    1\n",
      "198                               move    2\n",
      "199                           movement    4\n",
      "200                               much    2\n",
      "201                              muscl    1\n",
      "202                           muscleup    1\n",
      "203                           muscular    1\n",
      "204                             nation    2\n",
      "205                             number    2\n",
      "206                              often    4\n",
      "207                                one    2\n",
      "208                              onlin    1\n",
      "209                           opportun    1\n",
      "210                             option    1\n",
      "211                           orchestr    1\n",
      "212                              order    1\n",
      "213                              organ    3\n",
      "214                             origin    1\n",
      "215                              other    4\n",
      "216                            outdoor    2\n",
      "217                              panel    1\n",
      "218                           parallel    1\n",
      "219                               park    3\n",
      "220                           particip    1\n",
      "221                            partner    5\n",
      "222                              peopl    1\n",
      "223                            perfect    1\n",
      "224                            perform   10\n",
      "225                             person    5\n",
      "226                              photo    1\n",
      "227                             physic    8\n",
      "228                            physiqu    1\n",
      "229                              place    1\n",
      "230                               play    1\n",
      "231                            pleasur    1\n",
      "232                            popular    2\n",
      "233                         powerfocus    1\n",
      "234                            practic    1\n",
      "235                            primari    1\n",
      "236                               pro9    1\n",
      "237                            product    1\n",
      "238                            program    2\n",
      "239                             promot    2\n",
      "240                             provid    2\n",
      "241                        psychomotor    1\n",
      "242                             public    1\n",
      "243                            publish    1\n",
      "244                               pull    3\n",
      "245                             pullup    1\n",
      "246                               push    2\n",
      "247                               rang    1\n",
      "248                              rapid    1\n",
      "249                             record    1\n",
      "250                              refer    1\n",
      "251                              relat    1\n",
      "252                             resist    7\n",
      "253                            respons    1\n",
      "254                           rhythmic    1\n",
      "255                               riga    1\n",
      "256                               rope    2\n",
      "257                              round    1\n",
      "258                             routin    3\n",
      "259                              royal    1\n",
      "260                               rule    1\n",
      "261                                run    1\n",
      "262 s<U+03B8><U+03AD><U+03BD><U+03BF>s    1\n",
      "263                              sampl    1\n",
      "264                             school    1\n",
      "265                               seat    1\n",
      "266                          secondari    1\n",
      "267                               seri    1\n",
      "268                            session    1\n",
      "269                                set    2\n",
      "270                              shape    1\n",
      "271                                she    1\n",
      "272                               show    1\n",
      "273                             simpli    1\n",
      "274                              skill    2\n",
      "275                               some    2\n",
      "276                             someon    1\n",
      "277                            spartan    1\n",
      "278                             sphere    1\n",
      "279                               spin    1\n",
      "280                              sport    3\n",
      "281                              squat    2\n",
      "282                              stand    1\n",
      "283                              state    2\n",
      "284                             stheno    1\n",
      "285                             street    4\n",
      "286                           strength    5\n",
      "287                               such    7\n",
      "288                           superior    1\n",
      "289                              swing    1\n",
      "290                           synchron    1\n",
      "291                             system    4\n",
      "292                           systems3    1\n",
      "293                               team    1\n",
      "294                               test    2\n",
      "295                               than    1\n",
      "296                       thermopylae1    1\n",
      "297                              these    2\n",
      "298                               time    2\n",
      "299                               took    1\n",
      "300                              train    5\n",
      "301                               turn    1\n",
      "302                                two    3\n",
      "303                               unit    2\n",
      "304                              urban    2\n",
      "305                                use    7\n",
      "306                               usmc    1\n",
      "307                              usual    1\n",
      "308                            varieti    1\n",
      "309                            various    1\n",
      "310                           versatil    1\n",
      "311                            version    1\n",
      "312                                wco    2\n",
      "313                             weight    4\n",
      "314                               when    2\n",
      "315                              which    2\n",
      "316                              while    1\n",
      "317                             whilst    1\n",
      "318                                who    1\n",
      "319                              women    2\n",
      "320                               word    2\n",
      "321                            workout    4\n",
      "322                              world    5\n",
      "323                             world8    1\n",
      "324                           worldwid    1\n",
      "325                              wswcf    1\n"
     ]
    }
   ],
   "source": [
    "#using table to count frequencies of words and converting it to dataframe\n",
    "table_contents<-as.data.frame(table(unlist(stemmed_contents)))\n",
    "print(table_contents)"
   ]
  },
  {
   "cell_type": "code",
   "execution_count": 23,
   "metadata": {},
   "outputs": [
    {
     "name": "stdout",
     "output_type": "stream",
     "text": [
      "[1] \"Var1\" \"Freq\"\n"
     ]
    }
   ],
   "source": [
    "print(colnames(table_contents))"
   ]
  },
  {
   "cell_type": "code",
   "execution_count": 24,
   "metadata": {},
   "outputs": [
    {
     "data": {
      "image/png": "[encoded data removed]",
      "text/plain": [
       "plot without title"
      ]
     },
     "metadata": {},
     "output_type": "display_data"
    }
   ],
   "source": [
    "#creating wordcloud\n",
    "set.seed(100)\n",
    "wordcloud(words=table_contents$Var1,freq=table_contents$Freq,random.order=FALSE,rot.per=0.25,colors=brewer.pal(8,\"Dark2\"))"
   ]
  },
  {
   "cell_type": "code",
   "execution_count": 25,
   "metadata": {},
   "outputs": [
    {
     "name": "stderr",
     "output_type": "stream",
     "text": [
      "Joining, by = \"word\"\n"
     ]
    }
   ],
   "source": [
    "#converting to tidytext format, a special kind of dataframe\n",
    "text_df<-tibble(text=contents_lower)\n",
    "tidy_text<-text_df %>%\n",
    " unnest_tokens(word,text)\n",
    "data(stopwords)\n",
    "tidy_text<-tidy_text %>% anti_join(stop_words)\n",
    "tidy_text_dataframe<-tidy_text %>% count(word,sort=TRUE) #frequencies of words"
   ]
  },
  {
   "cell_type": "code",
   "execution_count": 26,
   "metadata": {},
   "outputs": [
    {
     "data": {
      "image/png": "[encoded data removed]",
      "text/plain": [
       "plot without title"
      ]
     },
     "metadata": {},
     "output_type": "display_data"
    }
   ],
   "source": [
    "#bar chart of terms and frequencies of the first webpage\n",
    "#visualization of the most common words\n",
    "tidy_text %>%\n",
    "  count(word, sort = TRUE) %>%\n",
    "  filter(n > 3) %>%\n",
    "  mutate(word = reorder(word, n)) %>%\n",
    "  ggplot(aes(word, n)) +\n",
    "  geom_col() +\n",
    "  xlab(NULL) +\n",
    "  coord_flip()"
   ]
  },
  {
   "cell_type": "code",
   "execution_count": 27,
   "metadata": {},
   "outputs": [
    {
     "name": "stdout",
     "output_type": "stream",
     "text": [
      "Enter webpage link: https://en.wikipedia.org/wiki/Indian_classical_music\n"
     ]
    }
   ],
   "source": [
    "link_1<-readline(prompt=\"Enter webpage link: \")\n",
    "page_1<-read_html(link_1) #another webpage"
   ]
  },
  {
   "cell_type": "code",
   "execution_count": 28,
   "metadata": {},
   "outputs": [],
   "source": [
    "contents_1<-page_1 %>% html_nodes(\"p\") %>% html_text() #contents of the page"
   ]
  },
  {
   "cell_type": "code",
   "execution_count": 29,
   "metadata": {},
   "outputs": [
    {
     "data": {
      "image/png": "[encoded data removed]",
      "text/plain": [
       "plot without title"
      ]
     },
     "metadata": {},
     "output_type": "display_data"
    }
   ],
   "source": [
    "#creating wordcloud like previous method\n",
    "contents_lower_1<-tolower(contents_1)\n",
    "contents_lower_1<-paste(contents_lower_1,sep=\" \",collapse=\" \")\n",
    "contents_punc_1<-removePunctuation(contents_lower_1)\n",
    "contents_prepositions_1<-removeWords(contents_punc_1,c(\"above\",\"across\",\"after\",\"against\",\"along\",\"among\",\"around\",\"as\",\"at\",\"before\",\"behind\",\"below\",\"beneath\",\"beside\",\"between\",\"by\",\"down\",\"during\",\"for\",\"from\",\"in\",\"inside\",\"into\",\"near\",\"of\",\"off\",\"on\",\"onto\",\"outside\",\"over\",\"through\",\"till\",\"to\",\"towards\",\"under\",\"underneath\",\"until\",\"up\",\"with\"))\n",
    "contents_be_verbs_1<-removeWords(contents_prepositions_1,c(\"be\",\"am\",\"is\",\"are\",\"was\",\"were\",\"been\",\"being\",\"have\",\"has\",\"had\",\"could\",\"can\",\"should\",\"would\",\"may\",\"might\",\"must\",\"shall\",\"will\",\"do\",\"did\",\"does\",\"having\"))\n",
    "contents_articles_1<-removeWords(contents_be_verbs_1,c(\"a\",\"an\",\"the\"))\n",
    "contents_conjunctions_1<-removeWords(contents_articles_1,c(\"for\",\"and\",\"nor\",\"but\",\"or\",\"yet\",\"so\"))\n",
    "contents_pronouns_1<-removeWords(contents_conjunctions_1,c(\"i\",\"me\",\"myself\",\"us\",\"our\",\"ours\",\"him\",\"himself\",\"her\",\"herself\",\"one\",\"this\",\"that\",\"it\",\"itself\",\"them\",\"themselves\",\"they\",\"their\"))\n",
    "filtered_contents_1<-contents_pronouns_1\n",
    "stemmed_contents_1<-text_tokens(filtered_contents_1,stemmer=\"en\")\n",
    "table_contents_1<-as.data.frame(table(unlist(stemmed_contents_1)))\n",
    "set.seed(100)\n",
    "wordcloud(words=table_contents_1$Var1,freq=table_contents_1$Freq,random.order=FALSE,rot.per=0.25,colors=brewer.pal(8,\"Dark2\"))"
   ]
  },
  {
   "cell_type": "code",
   "execution_count": 30,
   "metadata": {},
   "outputs": [
    {
     "name": "stderr",
     "output_type": "stream",
     "text": [
      "Joining, by = \"word\"\n"
     ]
    }
   ],
   "source": [
    "#converting to tidytext format, a special kind of dataframe\n",
    "text_df_1<-tibble(text=contents_lower_1)\n",
    "tidy_text_1<-text_df_1 %>%\n",
    " unnest_tokens(word,text)\n",
    "data(stopwords)\n",
    "tidy_text_1<-tidy_text_1 %>% anti_join(stop_words)\n",
    "tidy_text_dataframe_1<-tidy_text_1 %>% count(word,sort=TRUE) #frequencies of words"
   ]
  },
  {
   "cell_type": "code",
   "execution_count": 31,
   "metadata": {},
   "outputs": [
    {
     "data": {
      "image/png": "[encoded data removed]",
      "text/plain": [
       "plot without title"
      ]
     },
     "metadata": {},
     "output_type": "display_data"
    }
   ],
   "source": [
    "#bar chart of terms and frequencies of the second webpage\n",
    "#visualization of the most common words\n",
    "tidy_text_1 %>%\n",
    "  count(word, sort = TRUE) %>%\n",
    "  filter(n > 10) %>%\n",
    "  mutate(word = reorder(word, n)) %>%\n",
    "  ggplot(aes(word, n)) +\n",
    "  geom_col() +\n",
    "  xlab(NULL) +\n",
    "  coord_flip()"
   ]
  }
 ],
 "metadata": {
  "kernelspec": {
   "display_name": "R",
   "language": "R",
   "name": "ir"
  },
  "language_info": {
   "codemirror_mode": "r",
   "file_extension": ".r",
   "mimetype": "text/x-r-source",
   "name": "R",
   "pygments_lexer": "r",
   "version": "3.6.1"
  }
 },
 "nbformat": 4,
 "nbformat_minor": 4
}
